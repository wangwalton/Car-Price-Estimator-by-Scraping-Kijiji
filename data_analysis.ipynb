{
 "cells": [
  {
   "cell_type": "code",
   "execution_count": 1,
   "metadata": {
    "collapsed": true
   },
   "outputs": [],
   "source": [
    "import numpy as np #vector operations\n",
    "import pandas as pd #label data\n",
    "import matplotlib.pyplot as plt #visualize data\n",
    "\n",
    "import pickle #to use save and reuse model\n",
    "import itertools\n",
    "from mpl_toolkits.mplot3d import Axes3D\n",
    "import re"
   ]
  },
  {
   "cell_type": "code",
   "execution_count": 12,
   "metadata": {
    "collapsed": true
   },
   "outputs": [],
   "source": [
    "#loading data\n",
    "with open('raw_data.pkl', 'rb') as handle:\n",
    "    raw_data = pickle.load(handle)"
   ]
  },
  {
   "cell_type": "code",
   "execution_count": 13,
   "metadata": {
    "collapsed": true
   },
   "outputs": [],
   "source": [
    "filtered_data = []\n",
    "listTrim = []\n",
    "error = []\n",
    "#things that we want in DF\n",
    "attributes = [\"Trim\", \"Year\", \"Colour\", \"Drivetrain\", \"Kilometers\"]\n",
    "\n",
    "#loop through attripbutes\n",
    "for k in range(len(attributes)):\n",
    "    #list of that specfic attribute\n",
    "    list = []\n",
    "    errorCache = []\n",
    "    #loop through data\n",
    "    for i in range(len(raw_data)):\n",
    "        #length of description\n",
    "        lenAttr = len(raw_data[i][3][0])\n",
    "        appended = False\n",
    "        #loop thru description\n",
    "        for j in range(lenAttr):\n",
    "            #if description is what we are looking for\n",
    "            if raw_data[i][3][0][j] == attributes[k]:\n",
    "                #list append data\n",
    "                list.append(raw_data[i][3][1][j])\n",
    "                appended = True\n",
    "        if appended != True:\n",
    "            errorCache.append(i)\n",
    "            list.append(\"NaN\")\n",
    "    filtered_data.append(list)\n",
    "    error.append(errorCache)"
   ]
  },
  {
   "cell_type": "code",
   "execution_count": 14,
   "metadata": {
    "collapsed": true
   },
   "outputs": [],
   "source": [
    "def convertStrToNum(str):\n",
    "    num = \"\".join([s for s in str if s.isdigit()])\n",
    "    if len(num) > 0:\n",
    "        return int(num)\n",
    "    else:\n",
    "        return np.nan"
   ]
  },
  {
   "cell_type": "code",
   "execution_count": 15,
   "metadata": {
    "collapsed": true
   },
   "outputs": [],
   "source": [
    "def freqCount(list):\n",
    "    return {i: list.count(i) for i in list}"
   ]
  },
  {
   "cell_type": "markdown",
   "metadata": {},
   "source": [
    "Data Gathering"
   ]
  },
  {
   "cell_type": "code",
   "execution_count": 16,
   "metadata": {
    "collapsed": true
   },
   "outputs": [],
   "source": [
    "# price\n",
    "Y = np.zeros((len(raw_data),1))\n",
    "for i in range(len(raw_data)):\n",
    "    Y[i,0] = convertStrToNum(raw_data[i][0])"
   ]
  },
  {
   "cell_type": "code",
   "execution_count": 17,
   "metadata": {
    "collapsed": true
   },
   "outputs": [],
   "source": [
    "kilometers = np.zeros((len(raw_data),1))\n",
    "for i in range(len(raw_data)):\n",
    "    kilometers[i,0] = convertStrToNum(filtered_data[-1][i])"
   ]
  },
  {
   "cell_type": "code",
   "execution_count": 18,
   "metadata": {
    "collapsed": true
   },
   "outputs": [],
   "source": [
    "m = len(filtered_data[-2])\n",
    "drivetrain = np.zeros((len(raw_data),1))\n",
    "for i in range(m):\n",
    "    dt = filtered_data[-2][i]\n",
    "    if dt == \"All-wheel drive (AWD)\" or dt == \"4 x 4\":\n",
    "        drivetrain[i,0] = 1\n",
    "    elif dt == 'Front-wheel drive (FWD)' or dt == 'Rear-wheel drive (RWD)':\n",
    "        drivetrain[i,0] = 0\n",
    "    else:\n",
    "        drivetrain[i,0] = np.nan\n",
    "        "
   ]
  },
  {
   "cell_type": "code",
   "execution_count": 30,
   "metadata": {},
   "outputs": [
    {
     "data": {
      "text/plain": [
       "'Black'"
      ]
     },
     "execution_count": 30,
     "metadata": {},
     "output_type": "execute_result"
    }
   ],
   "source": [
    "colour_index = {'Black': 0,\n",
    " 'Blue': 1,\n",
    " 'Brown': 2,\n",
    " 'Burgundy': 3,\n",
    " 'Gold': 4,\n",
    " 'Green': 5,\n",
    " 'Grey': 6,\n",
    " 'Purple': 7,\n",
    " 'Red': 8,\n",
    " 'Silver': 9,\n",
    " 'Tan': 10,\n",
    " 'White': 11}\n",
    "\n",
    "colours = np.zeros((m,1))\n",
    "\n",
    "for i in range(m):\n",
    "    colour = filtered_data[2][i]\n",
    "    if colour == \"NaN\" or colour == \"Other\":\n",
    "        colours[i,0] = np.NaN\n",
    "    else:\n",
    "        colours[i,0] = colourIndex[colour]"
   ]
  },
  {
   "cell_type": "code",
   "execution_count": 31,
   "metadata": {
    "collapsed": true
   },
   "outputs": [],
   "source": [
    "filtered_data[1]\n",
    "year = np.zeros((m,1))\n",
    "for i in range(m):\n",
    "    year[i,0] = 2018 - convertStrToNum(filtered_data[1][i])"
   ]
  },
  {
   "cell_type": "code",
   "execution_count": 45,
   "metadata": {
    "collapsed": true
   },
   "outputs": [],
   "source": [
    "def findAttributes(tags, data, setNull=False):\n",
    "    npData = np.zeros((m,1))\n",
    "    \n",
    "    for i in range(len(data)):\n",
    "        lineData = data[i]\n",
    "        containTag = False\n",
    "        for j in range(len(lineData)):\n",
    "            for tag in tags:\n",
    "                value = lineData[j:j+len(tag)].lower()\n",
    "                if value == tag:\n",
    "                    npData[i,0] = tags[value]\n",
    "                    containTag = True\n",
    "        if not containTag and setNull:\n",
    "            npData[i,0] = np.nan\n",
    "    return npData"
   ]
  },
  {
   "cell_type": "code",
   "execution_count": 46,
   "metadata": {},
   "outputs": [
    {
     "name": "stdout",
     "output_type": "stream",
     "text": [
      "leather(array([ 0.,  1.]), array([2371,   98]))\n",
      "trim(array([ 0.,  1.,  2.,  3.]), array([ 728, 1153,   16,  158]))\n",
      "camera(array([ 0.,  1.]), array([2311,  158]))\n",
      "blue(array([ 0.,  1.]), array([2320,  149]))\n",
      "remote(array([ 0.,  1.]), array([2392,   77]))\n",
      "sunroof(array([ 0.,  1.]), array([2355,  114]))\n",
      "heated(array([ 0.,  1.]), array([2362,  107]))\n"
     ]
    }
   ],
   "source": [
    "leather_tags = {\n",
    "    \"leather\": 1,\n",
    "    \"lthr\": 1,\n",
    "    \"leathr\": 1,\n",
    "    \"letr\":1,\n",
    "    \"leath\":1\n",
    "}\n",
    "trim_tags = {\n",
    "    \"ls\": 0,\n",
    "    \"lt\": 1,\n",
    "    \"lt2\": 2,\n",
    "    \"2lt\": 2,\n",
    "    \"ltz\": 3\n",
    "}\n",
    "camera_tags = {\n",
    "    \"cam\": 1,\n",
    "    \"rear\": 1,\n",
    "    \"camera\": 1,\n",
    "    \"cmr\":1,\n",
    "    \"mera\":1,\n",
    "}\n",
    "blue_tags = {\n",
    "    \"bluetooth\": 1,\n",
    "    \"tooth\": 1,\n",
    "    \"toth\": 1,\n",
    "    \"blue\":1,\n",
    "    \"bth\":1,\n",
    "    \"btoth\":1\n",
    "}\n",
    "cruise_tags = {\n",
    "    \"cc \": 1,\n",
    "    \"cc/\": 1,\n",
    "    \"cc,\": 1,\n",
    "    \"cc.\": 1,\n",
    "    \"cc'\": 1,\n",
    "    \"cc;\": 1,\n",
    "    \"cruise control\": 1,\n",
    "    \"cruise\":1,\n",
    "    \"crus\": 1,\n",
    "    \"cru\": 1\n",
    "}\n",
    "remote_tags = {\n",
    "    \"remote control\": 1,\n",
    "    \"remote\": 1,\n",
    "    \"rcontrol\": 1,\n",
    "    \"rmt\": 1,\n",
    "}\n",
    "sunroof_tags = {\n",
    "    \"sunroof\": 1,\n",
    "    \"sun roof\": 1,\n",
    "    \"sun_roof\": 1,\n",
    "    \"roof\": 1,\n",
    "    \"sun\": 1,\n",
    "}\n",
    "heated_tags = {\n",
    "    \"heated\": 1,\n",
    "    \"heated seat\": 1,\n",
    "    \"heatedseats\": 1,\n",
    "    \"hseats\": 1,\n",
    "    \"heat\": 1,\n",
    "}\n",
    "leatherTest = findAttributes(leather_tags, filtered_data[0])\n",
    "trimTest = findAttributes(trim_tags, filtered_data[0], setNull=True)\n",
    "cameraTest = findAttributes(camera_tags, filtered_data[0])\n",
    "blueTest = findAttributes(blue_tags, filtered_data[0])\n",
    "remoteTest = findAttributes(remote_tags, filtered_data[0])\n",
    "sunroofTest = findAttributes(sunroof_tags, filtered_data[0])\n",
    "heatedTest = findAttributes(heated_tags, filtered_data[0])\n",
    "\n",
    "\n",
    "print(\"leather\", end=\"\")\n",
    "print(np.unique(leatherTest[~np.isnan(leatherTest)], return_counts=True))\n",
    "print(\"trim\", end=\"\")\n",
    "print(np.unique(trimTest[~np.isnan(trimTest)], return_counts=True))\n",
    "print(\"camera\", end=\"\")\n",
    "print(np.unique(cameraTest[~np.isnan(cameraTest)], return_counts=True))\n",
    "print(\"blue\", end=\"\")\n",
    "print(np.unique(blueTest[~np.isnan(blueTest)], return_counts=True))\n",
    "print(\"remote\", end=\"\")\n",
    "print(np.unique(remoteTest[~np.isnan(remoteTest)], return_counts=True))\n",
    "print(\"sunroof\", end=\"\")\n",
    "print(np.unique(sunroofTest[~np.isnan(sunroofTest)], return_counts=True))\n",
    "print(\"heated\", end=\"\")\n",
    "print(np.unique(heatedTest[~np.isnan(heatedTest)], return_counts=True))"
   ]
  },
  {
   "cell_type": "code",
   "execution_count": 52,
   "metadata": {
    "collapsed": true
   },
   "outputs": [],
   "source": [
    "X = np.column_stack((kilometers, drivetrain, colours, year, trimTest, leatherTest, cameraTest, blueTest, remoteTest, sunroofTest, heatedTest, Y))"
   ]
  },
  {
   "cell_type": "code",
   "execution_count": 49,
   "metadata": {
    "scrolled": true
   },
   "outputs": [
    {
     "data": {
      "text/plain": [
       "array([[  1.63656000e+05,   3.19000000e+04,   1.30000000e+05, ...,\n",
       "          3.10810000e+04,   1.28000000e+05,   1.23770000e+04],\n",
       "       [  1.00000000e+00,   1.00000000e+00,   0.00000000e+00, ...,\n",
       "          1.00000000e+00,   1.00000000e+00,   1.00000000e+00],\n",
       "       [  0.00000000e+00,   1.10000000e+01,   0.00000000e+00, ...,\n",
       "          0.00000000e+00,   1.10000000e+01,   0.00000000e+00],\n",
       "       ..., \n",
       "       [  0.00000000e+00,   0.00000000e+00,   0.00000000e+00, ...,\n",
       "          0.00000000e+00,   0.00000000e+00,   0.00000000e+00],\n",
       "       [  0.00000000e+00,   0.00000000e+00,   0.00000000e+00, ...,\n",
       "          0.00000000e+00,   0.00000000e+00,   0.00000000e+00],\n",
       "       [  8.56200000e+05,   1.79950000e+06,   9.19700000e+05, ...,\n",
       "          2.39880000e+06,   1.14950000e+06,   3.48260000e+06]])"
      ]
     },
     "execution_count": 49,
     "metadata": {},
     "output_type": "execute_result"
    }
   ],
   "source": [
    "X"
   ]
  },
  {
   "cell_type": "code",
   "execution_count": 53,
   "metadata": {},
   "outputs": [],
   "source": [
    "with open(\"comprised_data.pkl\", \"wb\") as output_file:\n",
    "    pickle.dump(X, output_file)"
   ]
  },
  {
   "cell_type": "code",
   "execution_count": null,
   "metadata": {
    "collapsed": true
   },
   "outputs": [],
   "source": []
  }
 ],
 "metadata": {
  "kernelspec": {
   "display_name": "Python 3",
   "language": "python",
   "name": "python3"
  },
  "language_info": {
   "codemirror_mode": {
    "name": "ipython",
    "version": 3
   },
   "file_extension": ".py",
   "mimetype": "text/x-python",
   "name": "python",
   "nbconvert_exporter": "python",
   "pygments_lexer": "ipython3",
   "version": "3.6.1"
  }
 },
 "nbformat": 4,
 "nbformat_minor": 2
}
